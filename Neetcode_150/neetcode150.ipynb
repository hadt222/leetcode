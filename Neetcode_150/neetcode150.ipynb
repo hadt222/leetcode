{
 "cells": [
  {
   "cell_type": "markdown",
   "metadata": {},
   "source": [
    "# Array and Hashing"
   ]
  },
  {
   "cell_type": "markdown",
   "metadata": {},
   "source": [
    "##  1. Contains Duplicate\n"
   ]
  },
  {
   "cell_type": "code",
   "execution_count": 2,
   "metadata": {},
   "outputs": [
    {
     "data": {
      "text/plain": [
       "'\\nContains Duplicate\\nSolved \\nGiven an integer array nums, return true if any value appears more than once in the array, otherwise return false.\\n\\nExample 1:\\n\\nInput: nums = [1, 2, 3, 3]\\n\\nOutput: true\\n\\nExample 2:\\n\\nInput: nums = [1, 2, 3, 4]\\n\\nOutput: false\\n'"
      ]
     },
     "execution_count": 2,
     "metadata": {},
     "output_type": "execute_result"
    }
   ],
   "source": [
    "# 1. Contains Duplicate\n",
    "'''\n",
    "Contains Duplicate\n",
    "Solved \n",
    "Given an integer array nums, return true if any value appears more than once in the array, otherwise return false.\n",
    "\n",
    "Example 1:\n",
    "\n",
    "Input: nums = [1, 2, 3, 3]\n",
    "\n",
    "Output: true\n",
    "\n",
    "Example 2:\n",
    "\n",
    "Input: nums = [1, 2, 3, 4]\n",
    "\n",
    "Output: false\n",
    "'''"
   ]
  },
  {
   "cell_type": "code",
   "execution_count": 3,
   "metadata": {},
   "outputs": [
    {
     "name": "stdout",
     "output_type": "stream",
     "text": [
      "True\n"
     ]
    }
   ],
   "source": [
    "# Hash set\n",
    "class Solution:\n",
    "    def containsDuplicate(self, nums: list[int]) -> bool:\n",
    "        seen = set()\n",
    "        for n in nums:\n",
    "            if n in seen:\n",
    "                return True\n",
    "            seen.add(n)\n",
    "        return False\n",
    "# Time complexity: O(n)\n",
    "# Space complexity: O(n)\n",
    "# test case: [1, 2, 3, 3]\n",
    "from typing import *\n",
    "nums = [1, 2, 3, 3]\n",
    "s = Solution()\n",
    "print(s.containsDuplicate(nums)) # True\n"
   ]
  },
  {
   "cell_type": "code",
   "execution_count": 4,
   "metadata": {},
   "outputs": [
    {
     "name": "stdout",
     "output_type": "stream",
     "text": [
      "True\n"
     ]
    }
   ],
   "source": [
    "# Solution\n",
    "class Solution:\n",
    "    def containsDuplicate(self, nums: list[int]) -> bool:\n",
    "        return len(nums) != len(set(nums))\n",
    "# Time complexity: O(n)\n",
    "# Space complexity: O(n)\n",
    "# test case: [1, 2, 3, 3]\n",
    "from typing import *\n",
    "nums = [1, 2, 3, 3]\n",
    "s = Solution()\n",
    "print(s.containsDuplicate(nums)) # True\n"
   ]
  },
  {
   "cell_type": "markdown",
   "metadata": {},
   "source": [
    "##"
   ]
  },
  {
   "cell_type": "markdown",
   "metadata": {},
   "source": [
    "## 2. Valid Anagram"
   ]
  },
  {
   "cell_type": "code",
   "execution_count": 5,
   "metadata": {},
   "outputs": [
    {
     "name": "stdout",
     "output_type": "stream",
     "text": [
      "True\n"
     ]
    }
   ],
   "source": [
    "\"\"\"\n",
    "Valid Anagram\n",
    "Given two strings s and t, return true if the two strings are anagrams of each other, otherwise return false.\n",
    "\n",
    "An anagram is a string that contains the exact same characters as another string, but the order of the characters can be different.\n",
    "\n",
    "Example 1:\n",
    "\n",
    "Input: s = \"racecar\", t = \"carrace\"\n",
    "\n",
    "Output: true\n",
    "Example 2:\n",
    "\n",
    "Input: s = \"jar\", t = \"jam\"\n",
    "\n",
    "Output: false\n",
    "Constraints:\n",
    "\n",
    "s and t consist of lowercase English letters.\n",
    "\"\"\"\n",
    "# Sorting\n",
    "class Solution:\n",
    "    def isAnagram(self, s: str, t: str) -> bool:\n",
    "        if len(s) != len(t):\n",
    "            return False\n",
    "        return sorted(s) == sorted(t)\n",
    "    \n",
    "# Time complexity: O(nlogn)\n",
    "# Space complexity: O(n)\n",
    "# test case: \"racecar\", \"carrace\"\n",
    "from typing import *\n",
    "s = \"racecar\"\n",
    "t = \"carrace\"\n",
    "sol = Solution()\n",
    "print(sol.isAnagram(s, t)) # True\n"
   ]
  },
  {
   "cell_type": "code",
   "execution_count": 6,
   "metadata": {},
   "outputs": [
    {
     "name": "stdout",
     "output_type": "stream",
     "text": [
      "True\n"
     ]
    }
   ],
   "source": [
    "# Hash table\n",
    "class Solution:\n",
    "    def isAnagram(self, s: str, t: str) -> bool:\n",
    "        if len(s) != len(t):\n",
    "            return False\n",
    "\n",
    "        countS, countT = {}, {}\n",
    "\n",
    "        for i in range(len(s)):\n",
    "            countS[s[i]] = 1 + countS.get(s[i], 0)\n",
    "            countT[t[i]] = 1 + countT.get(t[i], 0)\n",
    "        return countS == countT\n",
    "# Time complexity: O(n)\n",
    "# Space complexity: O(n)\n",
    "# test case: \"racecar\", \"carrace\"\n",
    "from typing import *\n",
    "s = \"racecar\"\n",
    "t = \"carrace\"\n",
    "sol = Solution()\n",
    "print(sol.isAnagram(s, t)) # True\n",
    "\n",
    "\n"
   ]
  },
  {
   "cell_type": "code",
   "execution_count": 7,
   "metadata": {},
   "outputs": [
    {
     "name": "stdout",
     "output_type": "stream",
     "text": [
      "True\n"
     ]
    }
   ],
   "source": [
    "# 3. Hash Table (Optimal)\n",
    "class Solution:\n",
    "    def isAnagram(self, s: str, t: str) -> bool:\n",
    "        if len(s) != len(t):\n",
    "            return False\n",
    "\n",
    "        count = [0] * 26\n",
    "        for i in range(len(s)):\n",
    "            count[ord(s[i]) - ord('a')] += 1\n",
    "            count[ord(t[i]) - ord('a')] -= 1\n",
    "\n",
    "        for val in count:\n",
    "            if val != 0:\n",
    "                return False\n",
    "        return True\n",
    "# Time complexity: O(n)\n",
    "# Space complexity: O(1)\n",
    "# test case: \"racecar\", \"carrace\"\n",
    "from typing import *\n",
    "s = \"racecar\"\n",
    "t = \"carrace\"\n",
    "sol = Solution()\n",
    "print(sol.isAnagram(s, t)) # True"
   ]
  },
  {
   "cell_type": "markdown",
   "metadata": {},
   "source": [
    "## 3.Two Sum"
   ]
  },
  {
   "cell_type": "code",
   "execution_count": 8,
   "metadata": {},
   "outputs": [
    {
     "name": "stdout",
     "output_type": "stream",
     "text": [
      "[0, 1]\n"
     ]
    }
   ],
   "source": [
    "\"\"\"\n",
    "Two Sum\n",
    "Given an array of integers nums and an integer target, return the indices i and j such that nums[i] + nums[j] == target and i != j.\n",
    "\n",
    "You may assume that every input has exactly one pair of indices i and j that satisfy the condition.\n",
    "\n",
    "Return the answer with the smaller index first.\n",
    "\n",
    "Example 1:\n",
    "\n",
    "Input: \n",
    "nums = [3,4,5,6], target = 7\n",
    "\n",
    "Output: [0,1]\n",
    "Explanation: nums[0] + nums[1] == 7, so we return [0, 1].\n",
    "\n",
    "Example 2:\n",
    "\n",
    "Input: nums = [4,5,6], target = 10\n",
    "\n",
    "Output: [0,2]\n",
    "Example 3:\n",
    "\n",
    "Input: nums = [5,5], target = 10\n",
    "\n",
    "Output: [0,1]\n",
    "Constraints:\n",
    "\n",
    "2 <= nums.length <= 1000\n",
    "-10,000,000 <= nums[i] <= 10,000,000\n",
    "-10,000,000 <= target <= 10,000,000\n",
    "\"\"\"\n",
    "\n",
    "# Bruteforce\n",
    "class Solution:\n",
    "    def twoSum(self, nums: List[int], target: int) -> List[int]:\n",
    "        for i in range(len(nums)):\n",
    "            for j in range(i + 1, len(nums)):\n",
    "                if nums[i] + nums[j] == target:\n",
    "                    return [i, j]\n",
    "        return []\n",
    "# Time complexity: O(n^2)\n",
    "# Space complexity: O(1)\n",
    "# test case: [3,4,5,6], 7\n",
    "from typing import *\n",
    "nums = [3,4,5,6]\n",
    "target = 7\n",
    "sol = Solution()\n",
    "print(sol.twoSum(nums, target)) # [0,1]\n"
   ]
  },
  {
   "cell_type": "code",
   "execution_count": 9,
   "metadata": {},
   "outputs": [
    {
     "name": "stdout",
     "output_type": "stream",
     "text": [
      "[0, 1]\n"
     ]
    }
   ],
   "source": [
    "# sorting\n",
    "class Solution:\n",
    "    def twoSum(self, nums: List[int], target: int) -> List[int]:\n",
    "        A = []\n",
    "        for i, num in enumerate(nums):\n",
    "            A.append([num, i])\n",
    "        \n",
    "        A.sort()\n",
    "        i, j = 0, len(nums) - 1\n",
    "        while i < j:\n",
    "            cur = A[i][0] + A[j][0]\n",
    "            if cur == target:\n",
    "                return [min(A[i][1], A[j][1]), \n",
    "                        max(A[i][1], A[j][1])]\n",
    "            elif cur < target:\n",
    "                i += 1\n",
    "            else:\n",
    "                j -= 1\n",
    "        return []\n",
    "# Time complexity: O(nlogn)\n",
    "# Space complexity: O(n)\n",
    "# test case: [3,4,5,6], 7\n",
    "from typing import *\n",
    "nums = [3,4,5,6]\n",
    "target = 7\n",
    "sol = Solution()\n",
    "print(sol.twoSum(nums, target)) # [0,1]\n",
    "\n"
   ]
  },
  {
   "cell_type": "code",
   "execution_count": 10,
   "metadata": {},
   "outputs": [
    {
     "name": "stdout",
     "output_type": "stream",
     "text": [
      "[0, 1]\n"
     ]
    }
   ],
   "source": [
    "# 3. Hash Table\n",
    "class Solution:\n",
    "    def twoSum(self, nums: List[int], target: int) -> List[int]:\n",
    "        indices = {}  # val -> index\n",
    "\n",
    "        for i, n in enumerate(nums):\n",
    "            indices[n] = i\n",
    "\n",
    "        for i, n in enumerate(nums):\n",
    "            diff = target - n\n",
    "            if diff in indices and indices[diff] != i:\n",
    "                return [i, indices[diff]]\n",
    "# Time complexity: O(n)\n",
    "# Space complexity: O(n)\n",
    "# test case: [3,4,5,6], 7\n",
    "nums = [3,4,5,6]\n",
    "target = 7\n",
    "sol = Solution()\n",
    "print(sol.twoSum(nums, target)) # [0,1]\n",
    "\n",
    "\n"
   ]
  },
  {
   "cell_type": "code",
   "execution_count": 11,
   "metadata": {},
   "outputs": [
    {
     "name": "stdout",
     "output_type": "stream",
     "text": [
      "[0, 1]\n"
     ]
    }
   ],
   "source": [
    "# 4. Hash Table (Optimal) one-pass\n",
    "class Solution:\n",
    "    def twoSum(self, nums: List[int], target: int) -> List[int]:\n",
    "        prevMap = {}  # val -> index\n",
    "\n",
    "        for i, n in enumerate(nums):\n",
    "            diff = target - n\n",
    "            if diff in prevMap:\n",
    "                return [prevMap[diff], i]\n",
    "            prevMap[n] = i\n",
    "\n",
    "# test case: [3,4,5,6], 7\n",
    "nums = [3,4,5,6]\n",
    "target = 7\n",
    "sol = Solution()\n",
    "print(sol.twoSum(nums, target)) # [0,1]\n"
   ]
  },
  {
   "cell_type": "markdown",
   "metadata": {},
   "source": [
    "# 4. Group Anagrams"
   ]
  },
  {
   "cell_type": "code",
   "execution_count": 12,
   "metadata": {},
   "outputs": [
    {
     "name": "stdout",
     "output_type": "stream",
     "text": [
      "[['act', 'cat'], ['pots', 'tops', 'stop'], ['hat']]\n"
     ]
    }
   ],
   "source": [
    "\"\"\"\n",
    "Group Anagrams\n",
    "Given an array of strings strs, group all anagrams together into sublists. You may return the output in any order.\n",
    "\n",
    "An anagram is a string that contains the exact same characters as another string, but the order of the characters can be different.\n",
    "\n",
    "Example 1:\n",
    "\n",
    "Input: strs = [\"act\",\"pots\",\"tops\",\"cat\",\"stop\",\"hat\"]\n",
    "\n",
    "Output: [[\"hat\"],[\"act\", \"cat\"],[\"stop\", \"pots\", \"tops\"]]\n",
    "Example 2:\n",
    "\n",
    "Input: strs = [\"x\"]\n",
    "\n",
    "Output: [[\"x\"]]\n",
    "Example 3:\n",
    "\n",
    "Input: strs = [\"\"]\n",
    "\n",
    "Output: [[\"\"]]\n",
    "Constraints:\n",
    "\n",
    "1 <= strs.length <= 1000.\n",
    "0 <= strs[i].length <= 100\n",
    "strs[i] is made up of lowercase English letters.\n",
    "\"\"\"\n",
    "# Sorting\n",
    "from collections import defaultdict\n",
    "class Solution:\n",
    "    def groupAnagrams(self, strs: List[str]) -> List[List[str]]:\n",
    "        anagrams = defaultdict(list)\n",
    "        for s in strs:\n",
    "            anagrams[tuple(sorted(s))].append(s)\n",
    "        return list(anagrams.values())\n",
    "    \n",
    "# Time complexity: O(nklogk)\n",
    "# Space complexity: O(nk)\n",
    "# test case: [\"act\",\"pots\",\"tops\",\"cat\",\"stop\",\"hat\"]\n",
    "from typing import *\n",
    "strs = [\"act\",\"pots\",\"tops\",\"cat\",\"stop\",\"hat\"]\n",
    "sol = Solution()\n",
    "print(sol.groupAnagrams(strs)) # [[\"hat\"],[\"act\", \"cat\"],[\"stop\", \"pots\", \"tops\"]]"
   ]
  },
  {
   "cell_type": "code",
   "execution_count": 13,
   "metadata": {},
   "outputs": [
    {
     "name": "stdout",
     "output_type": "stream",
     "text": [
      "[['act', 'cat'], ['pots', 'tops', 'stop'], ['hat']]\n"
     ]
    }
   ],
   "source": [
    "# Hash table\n",
    "class Solution:\n",
    "    def groupAnagrams(self, strs: List[str]) -> List[List[str]]:\n",
    "        anagrams = defaultdict(list)\n",
    "        for s in strs:\n",
    "            count = [0] * 26\n",
    "            for c in s:\n",
    "                count[ord(c) - ord('a')] += 1\n",
    "            anagrams[tuple(count)].append(s)\n",
    "        return list(anagrams.values())\n",
    "# Time complexity: O(nk)\n",
    "# Space complexity: O(nk)\n",
    "# test case: [\"act\",\"pots\",\"tops\",\"cat\",\"stop\",\"hat\"]\n",
    "from typing import *\n",
    "strs = [\"act\",\"pots\",\"tops\",\"cat\",\"stop\",\"hat\"]\n",
    "sol = Solution()\n",
    "print(sol.groupAnagrams(strs)) # [[\"hat\"],[\"act\", \"cat\"],[\"stop\", \"pots\", \"tops\"]]"
   ]
  },
  {
   "cell_type": "markdown",
   "metadata": {},
   "source": [
    "# 5. Top K Frequent Elements"
   ]
  },
  {
   "cell_type": "code",
   "execution_count": 14,
   "metadata": {},
   "outputs": [
    {
     "name": "stdout",
     "output_type": "stream",
     "text": [
      "[3, 2]\n"
     ]
    }
   ],
   "source": [
    "\"\"\"\n",
    "Top K Frequent Elements\n",
    "Given an integer array nums and an integer k, return the k most frequent elements within the array.\n",
    "\n",
    "The test cases are generated such that the answer is always unique.\n",
    "\n",
    "You may return the output in any order.\n",
    "\n",
    "Example 1:\n",
    "\n",
    "Input: nums = [1,2,2,3,3,3], k = 2\n",
    "\n",
    "Output: [2,3]\n",
    "Example 2:\n",
    "\n",
    "Input: nums = [7,7], k = 1\n",
    "\n",
    "Output: [7]\n",
    "Constraints:\n",
    "\n",
    "1 <= nums.length <= 10^4.\n",
    "-1000 <= nums[i] <= 1000\n",
    "1 <= k <= number of distinct elements in nums.\"\"\"\n",
    "\n",
    "# sorting\n",
    "class Solution:\n",
    "    def topKFrequent(self, nums: List[int], k: int) -> List[int]:\n",
    "        count = {}\n",
    "        for num in nums:\n",
    "            count[num] = 1 + count.get(num, 0)\n",
    "\n",
    "        arr = []\n",
    "        for num, cnt in count.items():\n",
    "            arr.append([cnt, num])\n",
    "        arr.sort()\n",
    "\n",
    "        res = []\n",
    "        while len(res) < k:\n",
    "            res.append(arr.pop()[1])\n",
    "        return res\n",
    "# Time complexity: O(nlogn)\n",
    "# Space complexity: O(n)\n",
    "# test case: [1,2,2,3,3,3], 2\n",
    "from typing import *\n",
    "nums = [1,2,2,3,3,3]\n",
    "k = 2\n",
    "sol = Solution()\n",
    "print(sol.topKFrequent(nums, k)) # [2,3]\n"
   ]
  },
  {
   "cell_type": "code",
   "execution_count": 15,
   "metadata": {},
   "outputs": [
    {
     "name": "stdout",
     "output_type": "stream",
     "text": [
      "[2, 3]\n"
     ]
    }
   ],
   "source": [
    "# Heap\n",
    "import heapq\n",
    "class Solution:\n",
    "    def topKFrequent(self, nums: List[int], k: int) -> List[int]:\n",
    "        count = {}\n",
    "        for num in nums:\n",
    "            count[num] = 1 + count.get(num, 0)\n",
    "\n",
    "        heap = []\n",
    "        for num in count.keys():\n",
    "            heapq.heappush(heap, (count[num], num))\n",
    "            if len(heap) > k:\n",
    "                heapq.heappop(heap)\n",
    "\n",
    "        res = []\n",
    "        for i in range(k):\n",
    "            res.append(heapq.heappop(heap)[1])\n",
    "        return res\n",
    "# Time complexity: O(nlogk)\n",
    "# Space complexity: O(n)\n",
    "# test case: [1,2,2,3,3,3], 2\n",
    "from typing import *\n",
    "nums = [1,2,2,3,3,3]\n",
    "k = 2\n",
    "sol = Solution()\n",
    "print(sol.topKFrequent(nums, k)) # [2,3]"
   ]
  },
  {
   "cell_type": "code",
   "execution_count": 16,
   "metadata": {},
   "outputs": [
    {
     "name": "stdout",
     "output_type": "stream",
     "text": [
      "[3, 2]\n"
     ]
    }
   ],
   "source": [
    "# Bucket Sort\n",
    "class Solution:\n",
    "    def topKFrequent(self, nums: List[int], k: int) -> List[int]:\n",
    "        count = {}\n",
    "        freq = [[] for i in range(len(nums) + 1)]\n",
    "\n",
    "        for num in nums:\n",
    "            count[num] = 1 + count.get(num, 0)\n",
    "        for num, cnt in count.items():\n",
    "            freq[cnt].append(num)\n",
    "        \n",
    "        res = []\n",
    "        for i in range(len(freq) - 1, 0, -1):\n",
    "            for num in freq[i]:\n",
    "                res.append(num)\n",
    "                if len(res) == k:\n",
    "                    return res\n",
    "# Time complexity: O(n)\n",
    "# Space complexity: O(n)\n",
    "# test case: [1,2,2,3,3,3], 2\n",
    "from typing import *\n",
    "nums = [1,2,2,3,3,3]\n",
    "k = 2\n",
    "sol = Solution()\n",
    "print(sol.topKFrequent(nums, k)) # [2,3]\n"
   ]
  },
  {
   "cell_type": "markdown",
   "metadata": {},
   "source": [
    "# 6. Encode and Decode Strings\n"
   ]
  },
  {
   "cell_type": "code",
   "execution_count": 17,
   "metadata": {},
   "outputs": [
    {
     "name": "stdout",
     "output_type": "stream",
     "text": [
      "2#we3#say1#:3#yes\n",
      "['we', 'say', ':', 'yes']\n"
     ]
    }
   ],
   "source": [
    "\"\"\"\n",
    "Encode and Decode Strings\n",
    "Design an algorithm to encode a list of strings to a single string. The encoded string is then decoded back to the original list of strings.\n",
    "\n",
    "Please implement encode and decode\n",
    "\n",
    "Example 1:\n",
    "\n",
    "Input: [\"neet\",\"code\",\"love\",\"you\"]\n",
    "\n",
    "Output:[\"neet\",\"code\",\"love\",\"you\"]\n",
    "Example 2:\n",
    "\n",
    "Input: [\"we\",\"say\",\":\",\"yes\"]\n",
    "\n",
    "Output: [\"we\",\"say\",\":\",\"yes\"]\n",
    "Constraints:\n",
    "\n",
    "0 <= strs.length < 100\n",
    "0 <= strs[i].length < 200\n",
    "strs[i] contains only UTF-8 characters.\n",
    "\"\"\"\n",
    "# String manipulation\n",
    "class Solution:\n",
    "    def encode(self, strs: List[str]) -> str:\n",
    "        return ''.join(str(len(s)) + '#' + s for s in strs)\n",
    "    \n",
    "    def decode(self, s: str) -> List[str]:\n",
    "        res = []\n",
    "        i = 0\n",
    "        while i < len(s):\n",
    "            j = i\n",
    "            while s[j] != '#':\n",
    "                j += 1\n",
    "            length = int(s[i:j])\n",
    "            res.append(s[j + 1:j + 1 + length])\n",
    "            i = j + 1 + length\n",
    "        return res\n",
    "    \n",
    "# test case: [\"we\",\"say\",\":\",\"yes\"]\n",
    "from typing import *\n",
    "strs = [\"we\",\"say\",\":\",\"yes\"]\n",
    "sol = Solution()\n",
    "encoded = sol.encode(strs)\n",
    "print(encoded) # \"2#we3#say1#:3#yes\"\n",
    "decoded = sol.decode(encoded)\n",
    "print(decoded) # [\"we\",\"say\",\":\",\"yes\"]\n"
   ]
  },
  {
   "cell_type": "code",
   "execution_count": 18,
   "metadata": {},
   "outputs": [
    {
     "name": "stdout",
     "output_type": "stream",
     "text": [
      "2,3,1,3,#wesay:yes\n",
      "['we', 'say', ':', 'yes']\n"
     ]
    }
   ],
   "source": [
    "#  Encoding & Decoding\n",
    "class Solution:\n",
    "    def encode(self, strs: List[str]) -> str:\n",
    "        if not strs:\n",
    "            return \"\"\n",
    "        sizes, res = [], \"\"\n",
    "        for s in strs:\n",
    "            sizes.append(len(s))\n",
    "        for sz in sizes:\n",
    "            res += str(sz)\n",
    "            res += ','\n",
    "        res += '#'\n",
    "        for s in strs:\n",
    "            res += s\n",
    "        return res\n",
    "\n",
    "    def decode(self, s: str) -> List[str]:\n",
    "        if not s:\n",
    "            return []\n",
    "        sizes, res, i = [], [], 0\n",
    "        while s[i] != '#':\n",
    "            cur = \"\"\n",
    "            while s[i] != ',':\n",
    "                cur += s[i]\n",
    "                i += 1\n",
    "            sizes.append(int(cur))\n",
    "            i += 1\n",
    "        i += 1\n",
    "        for sz in sizes:\n",
    "            res.append(s[i:i + sz])\n",
    "            i += sz\n",
    "        return res\n",
    "# test case: [\"we\",\"say\",\":\",\"yes\"]\n",
    "from typing import *\n",
    "strs = [\"we\",\"say\",\":\",\"yes\"]\n",
    "sol = Solution()\n",
    "encoded = sol.encode(strs)\n",
    "print(encoded) # \"2#we3#say1#:3#yes\"\n",
    "decoded = sol.decode(encoded)\n",
    "print(decoded) # [\"we\",\"say\",\":\",\"yes\"]\n",
    "\n",
    "\n"
   ]
  },
  {
   "cell_type": "code",
   "execution_count": null,
   "metadata": {},
   "outputs": [],
   "source": [
    "# 2. Encoding & Decoding\n",
    "class Solution:\n",
    "    \n",
    "    def encode(self, strs: List[str]) -> str:\n",
    "        res = \"\"\n",
    "        for s in strs:\n",
    "            res += str(len(s)) + \"#\" + s\n",
    "        return res\n",
    "\n",
    "    def decode(self, s: str) -> List[str]:\n",
    "        res = []\n",
    "        i = 0\n",
    "        \n",
    "        while i < len(s):\n",
    "            j = i\n",
    "            while s[j] != '#':\n",
    "                j += 1\n",
    "            length = int(s[i:j])\n",
    "            i = j + 1\n",
    "            j = i + length\n",
    "            res.append(s[i:j])\n",
    "            i = j\n",
    "        return res\n",
    "# test case: [\"we\",\"say\",\":\",\"yes\"]\n",
    "from typing import *\n",
    "strs = [\"we\",\"say\",\":\",\"yes\"]\n",
    "sol = Solution()\n",
    "encoded = sol.encode(strs)\n",
    "print(encoded) # \"2#we3#say1#:3#yes\"\n",
    "decoded = sol.decode(encoded)\n",
    "print(decoded) # [\"we\",\"say\",\":\",\"yes\"]\n",
    "\n",
    "\n"
   ]
  },
  {
   "cell_type": "markdown",
   "metadata": {},
   "source": [
    "# Two pointers"
   ]
  },
  {
   "cell_type": "markdown",
   "metadata": {},
   "source": []
  },
  {
   "cell_type": "markdown",
   "metadata": {},
   "source": [
    "# Stack"
   ]
  },
  {
   "cell_type": "markdown",
   "metadata": {},
   "source": []
  },
  {
   "cell_type": "markdown",
   "metadata": {},
   "source": [
    "# Binary search"
   ]
  },
  {
   "cell_type": "markdown",
   "metadata": {},
   "source": []
  },
  {
   "cell_type": "markdown",
   "metadata": {},
   "source": [
    "# Sliding windows"
   ]
  },
  {
   "cell_type": "markdown",
   "metadata": {},
   "source": []
  },
  {
   "cell_type": "markdown",
   "metadata": {},
   "source": [
    "# Linked list"
   ]
  },
  {
   "cell_type": "markdown",
   "metadata": {},
   "source": []
  }
 ],
 "metadata": {
  "kernelspec": {
   "display_name": "Python 3",
   "language": "python",
   "name": "python3"
  },
  "language_info": {
   "codemirror_mode": {
    "name": "ipython",
    "version": 3
   },
   "file_extension": ".py",
   "mimetype": "text/x-python",
   "name": "python",
   "nbconvert_exporter": "python",
   "pygments_lexer": "ipython3",
   "version": "3.12.3"
  }
 },
 "nbformat": 4,
 "nbformat_minor": 2
}
